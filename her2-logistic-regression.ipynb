{
 "cells": [
  {
   "cell_type": "code",
   "execution_count": 1,
   "id": "a58290aa",
   "metadata": {
    "_cell_guid": "b1076dfc-b9ad-4769-8c92-a6c4dae69d19",
    "_uuid": "8f2839f25d086af736a60e9eeb907d3b93b6e0e5",
    "execution": {
     "iopub.execute_input": "2022-04-01T00:44:04.180583Z",
     "iopub.status.busy": "2022-04-01T00:44:04.179867Z",
     "iopub.status.idle": "2022-04-01T00:44:05.454928Z",
     "shell.execute_reply": "2022-04-01T00:44:05.455599Z",
     "shell.execute_reply.started": "2022-04-01T00:20:14.836651Z"
    },
    "papermill": {
     "duration": 1.297812,
     "end_time": "2022-04-01T00:44:05.455963",
     "exception": false,
     "start_time": "2022-04-01T00:44:04.158151",
     "status": "completed"
    },
    "tags": []
   },
   "outputs": [
    {
     "name": "stdout",
     "output_type": "stream",
     "text": [
      "/kaggle/input/rnaseqher2/tologit.csv\n"
     ]
    },
    {
     "data": {
      "text/html": [
       "<div>\n",
       "<style scoped>\n",
       "    .dataframe tbody tr th:only-of-type {\n",
       "        vertical-align: middle;\n",
       "    }\n",
       "\n",
       "    .dataframe tbody tr th {\n",
       "        vertical-align: top;\n",
       "    }\n",
       "\n",
       "    .dataframe thead th {\n",
       "        text-align: right;\n",
       "    }\n",
       "</style>\n",
       "<table border=\"1\" class=\"dataframe\">\n",
       "  <thead>\n",
       "    <tr style=\"text-align: right;\">\n",
       "      <th></th>\n",
       "      <th>Patient.ID</th>\n",
       "      <th>ERBB2</th>\n",
       "      <th>STARD3</th>\n",
       "      <th>PGAP3</th>\n",
       "      <th>C17orf37</th>\n",
       "      <th>ORMDL3</th>\n",
       "      <th>Diagnosis.Age</th>\n",
       "      <th>Fraction.Genome.Altered</th>\n",
       "      <th>IHC.HER2</th>\n",
       "    </tr>\n",
       "  </thead>\n",
       "  <tbody>\n",
       "    <tr>\n",
       "      <th>0</th>\n",
       "      <td>TCGA-3C-AALI</td>\n",
       "      <td>11326.494743</td>\n",
       "      <td>508.404666</td>\n",
       "      <td>634.691081</td>\n",
       "      <td>1055.102632</td>\n",
       "      <td>1738.504187</td>\n",
       "      <td>50</td>\n",
       "      <td>0.7164</td>\n",
       "      <td>Positive</td>\n",
       "    </tr>\n",
       "    <tr>\n",
       "      <th>1</th>\n",
       "      <td>TCGA-3C-AALK</td>\n",
       "      <td>2019.833240</td>\n",
       "      <td>214.302047</td>\n",
       "      <td>296.389488</td>\n",
       "      <td>215.703814</td>\n",
       "      <td>387.111809</td>\n",
       "      <td>52</td>\n",
       "      <td>0.0764</td>\n",
       "      <td>Positive</td>\n",
       "    </tr>\n",
       "    <tr>\n",
       "      <th>2</th>\n",
       "      <td>TCGA-A1-A0SM</td>\n",
       "      <td>10710.882747</td>\n",
       "      <td>593.543307</td>\n",
       "      <td>494.068072</td>\n",
       "      <td>459.768268</td>\n",
       "      <td>1667.574052</td>\n",
       "      <td>77</td>\n",
       "      <td>0.1807</td>\n",
       "      <td>Positive</td>\n",
       "    </tr>\n",
       "    <tr>\n",
       "      <th>3</th>\n",
       "      <td>TCGA-A1-A0SN</td>\n",
       "      <td>8810.174300</td>\n",
       "      <td>699.582345</td>\n",
       "      <td>759.100428</td>\n",
       "      <td>1092.701299</td>\n",
       "      <td>2075.239408</td>\n",
       "      <td>50</td>\n",
       "      <td>0.5518</td>\n",
       "      <td>Positive</td>\n",
       "    </tr>\n",
       "    <tr>\n",
       "      <th>4</th>\n",
       "      <td>TCGA-A2-A04W</td>\n",
       "      <td>5840.213186</td>\n",
       "      <td>442.199723</td>\n",
       "      <td>575.460503</td>\n",
       "      <td>483.843717</td>\n",
       "      <td>2164.059885</td>\n",
       "      <td>50</td>\n",
       "      <td>0.1065</td>\n",
       "      <td>Positive</td>\n",
       "    </tr>\n",
       "  </tbody>\n",
       "</table>\n",
       "</div>"
      ],
      "text/plain": [
       "     Patient.ID         ERBB2      STARD3       PGAP3     C17orf37  \\\n",
       "0  TCGA-3C-AALI  11326.494743  508.404666  634.691081  1055.102632   \n",
       "1  TCGA-3C-AALK   2019.833240  214.302047  296.389488   215.703814   \n",
       "2  TCGA-A1-A0SM  10710.882747  593.543307  494.068072   459.768268   \n",
       "3  TCGA-A1-A0SN   8810.174300  699.582345  759.100428  1092.701299   \n",
       "4  TCGA-A2-A04W   5840.213186  442.199723  575.460503   483.843717   \n",
       "\n",
       "        ORMDL3  Diagnosis.Age  Fraction.Genome.Altered  IHC.HER2  \n",
       "0  1738.504187             50                   0.7164  Positive  \n",
       "1   387.111809             52                   0.0764  Positive  \n",
       "2  1667.574052             77                   0.1807  Positive  \n",
       "3  2075.239408             50                   0.5518  Positive  \n",
       "4  2164.059885             50                   0.1065  Positive  "
      ]
     },
     "execution_count": 1,
     "metadata": {},
     "output_type": "execute_result"
    }
   ],
   "source": [
    "# This Python 3 environment comes with many helpful analytics libraries installed\n",
    "# It is defined by the kaggle/python Docker image: https://github.com/kaggle/docker-python\n",
    "# For example, here's several helpful packages to load\n",
    "\n",
    "import numpy as np # linear algebra\n",
    "import pandas as pd # data processing, CSV file I/O (e.g. pd.read_csv)\n",
    "import sklearn\n",
    "from sklearn.model_selection import train_test_split\n",
    "from sklearn.linear_model import LogisticRegression\n",
    "from sklearn.metrics import confusion_matrix, ConfusionMatrixDisplay\n",
    "from sklearn import metrics\n",
    "\n",
    "# Input data files are available in the read-only \"../input/\" directory\n",
    "# For example, running this (by clicking run or pressing Shift+Enter) will list all files under the input directory\n",
    "\n",
    "import os\n",
    "for dirname, _, filenames in os.walk('/kaggle/input'):\n",
    "    for filename in filenames:\n",
    "        print(os.path.join(dirname, filename))\n",
    "\n",
    "# You can write up to 20GB to the current directory (/kaggle/working/) that gets preserved as output when you create a version using \"Save & Run All\" \n",
    "# You can also write temporary files to /kaggle/temp/, but they won't be saved outside of the current session\n",
    "\n",
    "her2df = pd.read_csv(\"/kaggle/input/rnaseqher2/tologit.csv\")\n",
    "her2df.head()\n"
   ]
  },
  {
   "cell_type": "code",
   "execution_count": 2,
   "id": "219d6a1a",
   "metadata": {
    "execution": {
     "iopub.execute_input": "2022-04-01T00:44:05.493531Z",
     "iopub.status.busy": "2022-04-01T00:44:05.492721Z",
     "iopub.status.idle": "2022-04-01T00:44:05.496404Z",
     "shell.execute_reply": "2022-04-01T00:44:05.496898Z",
     "shell.execute_reply.started": "2022-04-01T00:20:14.894819Z"
    },
    "papermill": {
     "duration": 0.027681,
     "end_time": "2022-04-01T00:44:05.497111",
     "exception": false,
     "start_time": "2022-04-01T00:44:05.469430",
     "status": "completed"
    },
    "tags": []
   },
   "outputs": [],
   "source": [
    "her2df = her2df.drop(columns = \"Patient.ID\")"
   ]
  },
  {
   "cell_type": "code",
   "execution_count": 3,
   "id": "436b6c0a",
   "metadata": {
    "execution": {
     "iopub.execute_input": "2022-04-01T00:44:05.526543Z",
     "iopub.status.busy": "2022-04-01T00:44:05.525750Z",
     "iopub.status.idle": "2022-04-01T00:44:05.545069Z",
     "shell.execute_reply": "2022-04-01T00:44:05.545692Z",
     "shell.execute_reply.started": "2022-04-01T00:20:14.901703Z"
    },
    "papermill": {
     "duration": 0.036048,
     "end_time": "2022-04-01T00:44:05.545911",
     "exception": false,
     "start_time": "2022-04-01T00:44:05.509863",
     "status": "completed"
    },
    "tags": []
   },
   "outputs": [],
   "source": [
    "\n",
    "her2df = pd.get_dummies(her2df)\n",
    "her2df = her2df.drop(columns = \"IHC.HER2_Negative\")\n",
    "\n",
    "# ok, should be ready now"
   ]
  },
  {
   "cell_type": "code",
   "execution_count": 4,
   "id": "1a38ac37",
   "metadata": {
    "execution": {
     "iopub.execute_input": "2022-04-01T00:44:05.575107Z",
     "iopub.status.busy": "2022-04-01T00:44:05.574409Z",
     "iopub.status.idle": "2022-04-01T00:44:05.588698Z",
     "shell.execute_reply": "2022-04-01T00:44:05.587758Z",
     "shell.execute_reply.started": "2022-04-01T00:20:14.921907Z"
    },
    "papermill": {
     "duration": 0.030237,
     "end_time": "2022-04-01T00:44:05.588886",
     "exception": false,
     "start_time": "2022-04-01T00:44:05.558649",
     "status": "completed"
    },
    "tags": []
   },
   "outputs": [
    {
     "data": {
      "text/html": [
       "<div>\n",
       "<style scoped>\n",
       "    .dataframe tbody tr th:only-of-type {\n",
       "        vertical-align: middle;\n",
       "    }\n",
       "\n",
       "    .dataframe tbody tr th {\n",
       "        vertical-align: top;\n",
       "    }\n",
       "\n",
       "    .dataframe thead th {\n",
       "        text-align: right;\n",
       "    }\n",
       "</style>\n",
       "<table border=\"1\" class=\"dataframe\">\n",
       "  <thead>\n",
       "    <tr style=\"text-align: right;\">\n",
       "      <th></th>\n",
       "      <th>ERBB2</th>\n",
       "      <th>STARD3</th>\n",
       "      <th>PGAP3</th>\n",
       "      <th>C17orf37</th>\n",
       "      <th>ORMDL3</th>\n",
       "      <th>Diagnosis.Age</th>\n",
       "      <th>Fraction.Genome.Altered</th>\n",
       "      <th>IHC.HER2_Positive</th>\n",
       "    </tr>\n",
       "  </thead>\n",
       "  <tbody>\n",
       "    <tr>\n",
       "      <th>0</th>\n",
       "      <td>11326.494743</td>\n",
       "      <td>508.404666</td>\n",
       "      <td>634.691081</td>\n",
       "      <td>1055.102632</td>\n",
       "      <td>1738.504187</td>\n",
       "      <td>50</td>\n",
       "      <td>0.7164</td>\n",
       "      <td>1</td>\n",
       "    </tr>\n",
       "    <tr>\n",
       "      <th>1</th>\n",
       "      <td>2019.833240</td>\n",
       "      <td>214.302047</td>\n",
       "      <td>296.389488</td>\n",
       "      <td>215.703814</td>\n",
       "      <td>387.111809</td>\n",
       "      <td>52</td>\n",
       "      <td>0.0764</td>\n",
       "      <td>1</td>\n",
       "    </tr>\n",
       "    <tr>\n",
       "      <th>2</th>\n",
       "      <td>10710.882747</td>\n",
       "      <td>593.543307</td>\n",
       "      <td>494.068072</td>\n",
       "      <td>459.768268</td>\n",
       "      <td>1667.574052</td>\n",
       "      <td>77</td>\n",
       "      <td>0.1807</td>\n",
       "      <td>1</td>\n",
       "    </tr>\n",
       "    <tr>\n",
       "      <th>3</th>\n",
       "      <td>8810.174300</td>\n",
       "      <td>699.582345</td>\n",
       "      <td>759.100428</td>\n",
       "      <td>1092.701299</td>\n",
       "      <td>2075.239408</td>\n",
       "      <td>50</td>\n",
       "      <td>0.5518</td>\n",
       "      <td>1</td>\n",
       "    </tr>\n",
       "    <tr>\n",
       "      <th>4</th>\n",
       "      <td>5840.213186</td>\n",
       "      <td>442.199723</td>\n",
       "      <td>575.460503</td>\n",
       "      <td>483.843717</td>\n",
       "      <td>2164.059885</td>\n",
       "      <td>50</td>\n",
       "      <td>0.1065</td>\n",
       "      <td>1</td>\n",
       "    </tr>\n",
       "  </tbody>\n",
       "</table>\n",
       "</div>"
      ],
      "text/plain": [
       "          ERBB2      STARD3       PGAP3     C17orf37       ORMDL3  \\\n",
       "0  11326.494743  508.404666  634.691081  1055.102632  1738.504187   \n",
       "1   2019.833240  214.302047  296.389488   215.703814   387.111809   \n",
       "2  10710.882747  593.543307  494.068072   459.768268  1667.574052   \n",
       "3   8810.174300  699.582345  759.100428  1092.701299  2075.239408   \n",
       "4   5840.213186  442.199723  575.460503   483.843717  2164.059885   \n",
       "\n",
       "   Diagnosis.Age  Fraction.Genome.Altered  IHC.HER2_Positive  \n",
       "0             50                   0.7164                  1  \n",
       "1             52                   0.0764                  1  \n",
       "2             77                   0.1807                  1  \n",
       "3             50                   0.5518                  1  \n",
       "4             50                   0.1065                  1  "
      ]
     },
     "execution_count": 4,
     "metadata": {},
     "output_type": "execute_result"
    }
   ],
   "source": [
    "her2df.head()\n",
    "# Positive column = 1, positive IHC, 0 is negative"
   ]
  },
  {
   "cell_type": "code",
   "execution_count": 5,
   "id": "f781cbcd",
   "metadata": {
    "execution": {
     "iopub.execute_input": "2022-04-01T00:44:05.620868Z",
     "iopub.status.busy": "2022-04-01T00:44:05.620116Z",
     "iopub.status.idle": "2022-04-01T00:44:05.628085Z",
     "shell.execute_reply": "2022-04-01T00:44:05.628620Z",
     "shell.execute_reply.started": "2022-04-01T00:20:14.937877Z"
    },
    "papermill": {
     "duration": 0.025499,
     "end_time": "2022-04-01T00:44:05.628850",
     "exception": false,
     "start_time": "2022-04-01T00:44:05.603351",
     "status": "completed"
    },
    "tags": []
   },
   "outputs": [],
   "source": [
    "# begin the scikit workflow\n",
    "\n",
    "#specifying groups:\n",
    "features = ['ERBB2','STARD3','PGAP3','C17orf37','ORMDL3','Diagnosis.Age','Fraction.Genome.Altered']\n",
    "X = her2df[features]\n",
    "y = her2df['IHC.HER2_Positive']\n",
    "\n",
    "#specifying training/test sets:\n",
    "\n",
    "X_train,X_test,y_train,y_test=train_test_split(X,y,test_size=0.30,random_state=0)\n"
   ]
  },
  {
   "cell_type": "code",
   "execution_count": 6,
   "id": "491452d2",
   "metadata": {
    "execution": {
     "iopub.execute_input": "2022-04-01T00:44:05.659509Z",
     "iopub.status.busy": "2022-04-01T00:44:05.658728Z",
     "iopub.status.idle": "2022-04-01T00:44:05.700808Z",
     "shell.execute_reply": "2022-04-01T00:44:05.701412Z",
     "shell.execute_reply.started": "2022-04-01T00:20:14.947728Z"
    },
    "papermill": {
     "duration": 0.059291,
     "end_time": "2022-04-01T00:44:05.701626",
     "exception": false,
     "start_time": "2022-04-01T00:44:05.642335",
     "status": "completed"
    },
    "tags": []
   },
   "outputs": [],
   "source": [
    "# call\n",
    "logit = LogisticRegression(max_iter = 1000) #didn't converge at 100, expecting POOR! results\n",
    "\n",
    "# fit\n",
    "logit.fit(X_train,y_train)\n",
    "\n",
    "# predicty_pred=logreg.predict(X_test)\n",
    "y_predicted = logit.predict(X_test)\n",
    "\n",
    "# and i don't feel like getting into a confusion matrix this has gone on long enough!"
   ]
  },
  {
   "cell_type": "code",
   "execution_count": 7,
   "id": "4b308c41",
   "metadata": {
    "execution": {
     "iopub.execute_input": "2022-04-01T00:44:05.733936Z",
     "iopub.status.busy": "2022-04-01T00:44:05.733060Z",
     "iopub.status.idle": "2022-04-01T00:44:05.742092Z",
     "shell.execute_reply": "2022-04-01T00:44:05.742684Z",
     "shell.execute_reply.started": "2022-04-01T00:20:14.988462Z"
    },
    "papermill": {
     "duration": 0.027031,
     "end_time": "2022-04-01T00:44:05.742920",
     "exception": false,
     "start_time": "2022-04-01T00:44:05.715889",
     "status": "completed"
    },
    "tags": []
   },
   "outputs": [
    {
     "name": "stdout",
     "output_type": "stream",
     "text": [
      "accuracy score: 0.8981481481481481\n",
      "precision score: 0.9565217391304348\n",
      "recall score: 0.5116279069767442\n"
     ]
    }
   ],
   "source": [
    "\n",
    "\n",
    "print(\"accuracy score:\",metrics.accuracy_score(y_test, y_predicted))\n",
    "print(\"precision score:\",metrics.precision_score(y_test, y_predicted))\n",
    "print(\"recall score:\",metrics.recall_score(y_test, y_predicted))\n",
    "\n",
    "# OMG LOOK AT THAT IT WAS ACTUALLY PRETTY FLIPPING ACCURATE WHAT!!!!\n",
    "# aspfmsdzkgz;dobszegp[kzdmrgionzdigunzsdrmgzdrg]\n",
    "# that's craaazzyyyyyyyyyyyyyyyyy man after all that flipping analysis\n",
    "# recall is HORRIBLE THO LLOLOLOL\n",
    "# or maybe not, I guess we'll actually have to do a prediction matrix to see how\n",
    "# stuff turned out:"
   ]
  },
  {
   "cell_type": "code",
   "execution_count": 8,
   "id": "eb07f160",
   "metadata": {
    "execution": {
     "iopub.execute_input": "2022-04-01T00:44:05.774273Z",
     "iopub.status.busy": "2022-04-01T00:44:05.773537Z",
     "iopub.status.idle": "2022-04-01T00:44:05.781980Z",
     "shell.execute_reply": "2022-04-01T00:44:05.781372Z",
     "shell.execute_reply.started": "2022-04-01T00:20:15.005436Z"
    },
    "papermill": {
     "duration": 0.025299,
     "end_time": "2022-04-01T00:44:05.782144",
     "exception": false,
     "start_time": "2022-04-01T00:44:05.756845",
     "status": "completed"
    },
    "tags": []
   },
   "outputs": [
    {
     "data": {
      "text/plain": [
       "array([[172,   1],\n",
       "       [ 21,  22]])"
      ]
     },
     "execution_count": 8,
     "metadata": {},
     "output_type": "execute_result"
    }
   ],
   "source": [
    "# mostly copying this part of the code\n",
    "CONFUSIONmx = metrics.confusion_matrix(y_test, y_predicted)\n",
    "\n",
    "CONFUSIONmx \n",
    "# true on y, predicted on x axes"
   ]
  },
  {
   "cell_type": "code",
   "execution_count": 9,
   "id": "1524ca8a",
   "metadata": {
    "execution": {
     "iopub.execute_input": "2022-04-01T00:44:05.824726Z",
     "iopub.status.busy": "2022-04-01T00:44:05.823981Z",
     "iopub.status.idle": "2022-04-01T00:44:06.097908Z",
     "shell.execute_reply": "2022-04-01T00:44:06.096995Z",
     "shell.execute_reply.started": "2022-04-01T00:28:28.357883Z"
    },
    "papermill": {
     "duration": 0.297744,
     "end_time": "2022-04-01T00:44:06.098077",
     "exception": false,
     "start_time": "2022-04-01T00:44:05.800333",
     "status": "completed"
    },
    "tags": []
   },
   "outputs": [
    {
     "data": {
      "text/plain": [
       "<sklearn.metrics._plot.confusion_matrix.ConfusionMatrixDisplay at 0x7f68cde7e650>"
      ]
     },
     "execution_count": 9,
     "metadata": {},
     "output_type": "execute_result"
    },
    {
     "data": {
      "image/png": "[encoded data removed]",
      "text/plain": [
       "<Figure size 432x288 with 2 Axes>"
      ]
     },
     "metadata": {
      "needs_background": "light"
     },
     "output_type": "display_data"
    }
   ],
   "source": [
    "# from: https://scikit-learn.org/stable/modules/generated/sklearn.metrics.ConfusionMatrixDisplay.html#sklearn.metrics.ConfusionMatrixDisplay\n",
    "\n",
    "#Saving that plot so I can display in the RMD:\n",
    "\n",
    "disp = ConfusionMatrixDisplay(CONFUSIONmx) #display_labels=clf.classes_)\n",
    "disp.plot()\n",
    "\n",
    "#>>> disp.plot()\n",
    "#<...>\n",
    "#>>> plt.show()"
   ]
  },
  {
   "cell_type": "markdown",
   "id": "daca1f45",
   "metadata": {
    "papermill": {
     "duration": 0.015412,
     "end_time": "2022-04-01T00:44:06.128578",
     "exception": false,
     "start_time": "2022-04-01T00:44:06.113166",
     "status": "completed"
    },
    "tags": []
   },
   "source": [
    "Ok... so it likes to say no, and for that it's very good, but for actually qualifying that you're positive, it is awful. No better than a monkey. So. \n",
    "\n",
    "For help because confusion matrices are confusing to me too: the top left and bottom right are the correct positives and correct negatives; bottom left is it predicted negative but it was actually postive, etc.\n",
    "\n",
    "SO!!\n",
    "\n",
    "That's pretty much what we saw with the density curve(s). One can easily say no, but not yes.\n",
    "Rip.\n",
    "\n",
    "\"Go not to the Elves for counsel, for they will say both no and yes.\"\n",
    "- Frodo Baggins"
   ]
  }
 ],
 "metadata": {
  "kernelspec": {
   "display_name": "Python 3",
   "language": "python",
   "name": "python3"
  },
  "language_info": {
   "codemirror_mode": {
    "name": "ipython",
    "version": 3
   },
   "file_extension": ".py",
   "mimetype": "text/x-python",
   "name": "python",
   "nbconvert_exporter": "python",
   "pygments_lexer": "ipython3",
   "version": "3.7.12"
  },
  "papermill": {
   "default_parameters": {},
   "duration": 13.232761,
   "end_time": "2022-04-01T00:44:06.856062",
   "environment_variables": {},
   "exception": null,
   "input_path": "__notebook__.ipynb",
   "output_path": "__notebook__.ipynb",
   "parameters": {},
   "start_time": "2022-04-01T00:43:53.623301",
   "version": "2.3.3"
  }
 },
 "nbformat": 4,
 "nbformat_minor": 5
}
